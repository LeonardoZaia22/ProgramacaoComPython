{
  "nbformat": 4,
  "nbformat_minor": 0,
  "metadata": {
    "colab": {
      "provenance": [],
      "authorship_tag": "ABX9TyMv+M+aofO0pxL2hB8etJiV",
      "include_colab_link": true
    },
    "kernelspec": {
      "name": "python3",
      "display_name": "Python 3"
    },
    "language_info": {
      "name": "python"
    }
  },
  "cells": [
    {
      "cell_type": "markdown",
      "metadata": {
        "id": "view-in-github",
        "colab_type": "text"
      },
      "source": [
        "<a href=\"https://colab.research.google.com/github/LeonardoZaia22/ProgramacaoComPython/blob/main/exercicios4Bim/Exercicios_Fun%C3%A7oes.ipynb\" target=\"_parent\"><img src=\"https://colab.research.google.com/assets/colab-badge.svg\" alt=\"Open In Colab\"/></a>"
      ]
    },
    {
      "cell_type": "markdown",
      "source": [
        "Atividade Prática de Funções:\n",
        "\n",
        "1) com parâmetro e com retorno:\n",
        "\n",
        "Você foi encarregado de criar um programa para calcular o valor total de uma compra em um supermercado. Crie uma função chamada calcular_total_compra que receba como parâmetro uma lista de preços dos itens comprados e retorne o valor total a ser pago.\n",
        "\n",
        "No programa principal:\n",
        "\n",
        "Peça ao usuário para informar quantos itens ele comprou.\n",
        "Para cada item, solicite o preço e armazene em uma lista.\n",
        "Chame a função e exiba o valor total da compra.\n",
        "\n",
        "Na saída do programa deverá ser assim:\n",
        "\n",
        "Quantos itens você comprou? 3\n",
        "Digite o preço do item 1: 10.50\n",
        "Digite o preço do item 2: 5.20\n",
        "Digite o preço do item 3: 8.30\n",
        "O valor total da compra é: R$ 24.00"
      ],
      "metadata": {
        "id": "JEhpPtTx00e7"
      }
    },
    {
      "cell_type": "code",
      "execution_count": 2,
      "metadata": {
        "colab": {
          "base_uri": "https://localhost:8080/"
        },
        "id": "PRK6YETZ0zlk",
        "outputId": "65f41e1c-dc2a-4b59-95af-c933d857f17b"
      },
      "outputs": [
        {
          "output_type": "stream",
          "name": "stdout",
          "text": [
            "Quantos itens você comprou? 3\n",
            "Digite o preço do item 1: 10.50\n",
            "Digite o preço do item 2: 5.20\n",
            "Digite o preço do item 3: 8.30\n",
            "O valor total da sua compra é de  R$ 24.00\n"
          ]
        }
      ],
      "source": [
        "def calcular_total_compra(precos):\n",
        "  total = sum(precos)\n",
        "  return total\n",
        "\n",
        "# Programa principal\n",
        "itens = int(input(\"Quantos itens você comprou? \"))\n",
        "precos_itens = []\n",
        "\n",
        "for i in range(itens):\n",
        "  preco = float(input(f\"Digite o preço do item {i+1}: \"))\n",
        "  precos_itens.append(preco)\n",
        "\n",
        "valor_total = calcular_total_compra(precos_itens)\n",
        "print(f\"O valor total da sua compra é de  R$ {valor_total:.2f}\")"
      ]
    },
    {
      "cell_type": "markdown",
      "source": [
        "2) Função Sem parâmetro e com retorno\n",
        "\n",
        "Você está organizando uma eleição fictícia com três candidatos. Crie uma função chamada realizar_votacao que:\n",
        "\n",
        "Solicite ao usuário que vote em um dos três candidatos, identificados por números (1, 2 ou 3).\n",
        "Permita que a votação continue até que o usuário digite 0 para encerrar.\n",
        "Ao final, exiba o número total de votos para cada candidato.\n",
        "A função não deve receber parâmetros nem retornar valores; apenas realizar a votação e exibir os resultados no final.\n",
        "\n",
        "Vote no seu candidato:\n",
        "1 - Candidato A\n",
        "2 - Candidato B\n",
        "3 - Candidato C\n",
        "Digite 0 para encerrar.\n",
        "Seu voto: 1\n",
        "Seu voto: 3\n",
        "Seu voto: 2\n",
        "Seu voto: 3\n",
        "Seu voto: 0\n",
        "\n",
        "Resultado da votação:\n",
        "Candidato A: 1 voto(s)\n",
        "Candidato B: 1 voto(s)\n",
        "Candidato C: 2 voto(s)"
      ],
      "metadata": {
        "id": "tYSbrisC5V8G"
      }
    },
    {
      "cell_type": "code",
      "source": [
        "\n",
        "def realizar_votacao():\n",
        "    votos_Marcelo= 0\n",
        "    votos_Douglas = 0\n",
        "    votos_Beatriz = 0\n",
        "\n",
        "    print(\"Vote no seu candidato:\")\n",
        "    print(\"1 - Marcelo\")\n",
        "    print(\"2 - Douglas \")\n",
        "    print(\"3 - Beatriz\")\n",
        "    print(\"Digite 0 para encerrar.\")\n",
        "\n",
        "    while True:\n",
        "        try:\n",
        "            voto = int(input(\"Seu voto: \"))\n",
        "            if voto == 0:\n",
        "                break\n",
        "            elif voto == 1:\n",
        "                votos_Marcelo += 1\n",
        "            elif voto == 2:\n",
        "                votos_Douglas += 1\n",
        "            elif voto == 3:\n",
        "                votos_Beatriz += 1\n",
        "            else:\n",
        "                print(\"Voto inválido. Digite um número entre 0 e 3.\")\n",
        "        except ValueError:\n",
        "            print(\"Entrada inválida. Digite um número.\")\n",
        "\n",
        "    print(\"\\nResultado da votação:\")\n",
        "    print(f\"Candidato A: {votos_Marcelo} voto(s)\")\n",
        "    print(f\"Candidato B: {votos_Douglas} voto(s)\")\n",
        "    print(f\"Candidato C: {votos_Beatriz} voto(s)\")\n",
        "\n",
        "realizar_votacao()"
      ],
      "metadata": {
        "colab": {
          "base_uri": "https://localhost:8080/"
        },
        "id": "K2Iurflj5W0R",
        "outputId": "27454831-968d-4e70-fd45-066d79d62b4a"
      },
      "execution_count": 4,
      "outputs": [
        {
          "output_type": "stream",
          "name": "stdout",
          "text": [
            "Vote no seu candidato:\n",
            "1 - Marcelo\n",
            "2 - Douglas \n",
            "3 - Beatriz\n",
            "Digite 0 para encerrar.\n",
            "Seu voto: 2\n",
            "Seu voto: 4\n",
            "Voto inválido. Digite um número entre 0 e 3.\n",
            "Seu voto: 3\n",
            "Seu voto: 1\n",
            "Seu voto: 2\n",
            "Seu voto: 2\n",
            "Seu voto: 0\n",
            "\n",
            "Resultado da votação:\n",
            "Candidato A: 1 voto(s)\n",
            "Candidato B: 3 voto(s)\n",
            "Candidato C: 1 voto(s)\n"
          ]
        }
      ]
    }
  ]
}