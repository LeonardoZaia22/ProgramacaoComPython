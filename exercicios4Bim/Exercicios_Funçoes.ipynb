{
  "nbformat": 4,
  "nbformat_minor": 0,
  "metadata": {
    "colab": {
      "provenance": [],
      "authorship_tag": "ABX9TyPZliHbguFg9aSal4e/rPd6",
      "include_colab_link": true
    },
    "kernelspec": {
      "name": "python3",
      "display_name": "Python 3"
    },
    "language_info": {
      "name": "python"
    }
  },
  "cells": [
    {
      "cell_type": "markdown",
      "metadata": {
        "id": "view-in-github",
        "colab_type": "text"
      },
      "source": [
        "<a href=\"https://colab.research.google.com/github/LeonardoZaia22/ProgramacaoComPython/blob/main/exercicios4Bim/Exercicios_Fun%C3%A7oes.ipynb\" target=\"_parent\"><img src=\"https://colab.research.google.com/assets/colab-badge.svg\" alt=\"Open In Colab\"/></a>"
      ]
    },
    {
      "cell_type": "markdown",
      "source": [
        "Atividade Prática de Funções:\n",
        "\n",
        "1) com parâmetro e com retorno:\n",
        "\n",
        "Você foi encarregado de criar um programa para calcular o valor total de uma compra em um supermercado. Crie uma função chamada calcular_total_compra que receba como parâmetro uma lista de preços dos itens comprados e retorne o valor total a ser pago.\n",
        "\n",
        "No programa principal:\n",
        "\n",
        "Peça ao usuário para informar quantos itens ele comprou.\n",
        "Para cada item, solicite o preço e armazene em uma lista.\n",
        "Chame a função e exiba o valor total da compra.\n",
        "\n",
        "Na saída do programa deverá ser assim:\n",
        "\n",
        "Quantos itens você comprou? 3\n",
        "Digite o preço do item 1: 10.50\n",
        "Digite o preço do item 2: 5.20\n",
        "Digite o preço do item 3: 8.30\n",
        "O valor total da compra é: R$ 24.00"
      ],
      "metadata": {
        "id": "JEhpPtTx00e7"
      }
    },
    {
      "cell_type": "code",
      "execution_count": null,
      "metadata": {
        "colab": {
          "base_uri": "https://localhost:8080/"
        },
        "id": "PRK6YETZ0zlk",
        "outputId": "65f41e1c-dc2a-4b59-95af-c933d857f17b"
      },
      "outputs": [
        {
          "output_type": "stream",
          "name": "stdout",
          "text": [
            "Quantos itens você comprou? 3\n",
            "Digite o preço do item 1: 10.50\n",
            "Digite o preço do item 2: 5.20\n",
            "Digite o preço do item 3: 8.30\n",
            "O valor total da sua compra é de  R$ 24.00\n"
          ]
        }
      ],
      "source": [
        "def calcular_total_compra(precos):\n",
        "  total = sum(precos)\n",
        "  return total\n",
        "\n",
        "# Programa principal\n",
        "itens = int(input(\"Quantos itens você comprou? \"))\n",
        "precos_itens = []\n",
        "\n",
        "for i in range(itens):\n",
        "  preco = float(input(f\"Digite o preço do item {i+1}: \"))\n",
        "  precos_itens.append(preco)\n",
        "\n",
        "valor_total = calcular_total_compra(precos_itens)\n",
        "print(f\"O valor total da sua compra é de  R$ {valor_total:.2f}\")"
      ]
    },
    {
      "cell_type": "markdown",
      "source": [
        "2) Função Sem parâmetro e com retorno\n",
        "\n",
        "Você está organizando uma eleição fictícia com três candidatos. Crie uma função chamada realizar_votacao que:\n",
        "\n",
        "Solicite ao usuário que vote em um dos três candidatos, identificados por números (1, 2 ou 3).\n",
        "Permita que a votação continue até que o usuário digite 0 para encerrar.\n",
        "Ao final, exiba o número total de votos para cada candidato.\n",
        "A função não deve receber parâmetros nem retornar valores; apenas realizar a votação e exibir os resultados no final.\n",
        "\n",
        "Vote no seu candidato:\n",
        "1 - Candidato A\n",
        "2 - Candidato B\n",
        "3 - Candidato C\n",
        "Digite 0 para encerrar.\n",
        "Seu voto: 1\n",
        "Seu voto: 3\n",
        "Seu voto: 2\n",
        "Seu voto: 3\n",
        "Seu voto: 0\n",
        "\n",
        "Resultado da votação:\n",
        "Candidato A: 1 voto(s)\n",
        "Candidato B: 1 voto(s)\n",
        "Candidato C: 2 voto(s)"
      ],
      "metadata": {
        "id": "tYSbrisC5V8G"
      }
    },
    {
      "cell_type": "code",
      "source": [
        "def realizar_votacao():\n",
        "    votos = {'a': 0, 'b': 0, 'c': 0}\n",
        "\n",
        "    while True:\n",
        "        voto = input(\"Escolha o seu candidato:\\n1 - lucas\\n2 - marcos\\n3 - pedro\\nDigite 0 para encerrar a votação.\\nSeu voto: \")\n",
        "\n",
        "        try:\n",
        "            voto = int(voto)\n",
        "\n",
        "            if voto == 1:\n",
        "                votos['a'] += 1\n",
        "            elif voto == 2:\n",
        "                votos['b'] += 1\n",
        "            elif voto == 3:\n",
        "                votos['c'] += 1\n",
        "            elif voto == 0:\n",
        "                break\n",
        "            else:\n",
        "                print(\"Opção inválida. Por favor, escolha um número de 0 a 3.\")\n",
        "        except ValueError:\n",
        "            print(\"Entrada inválida. Por favor, digite um número válido.\")\n",
        "\n",
        "    print(\"\\nResultado da votação:\")\n",
        "    for candidato, quantidade in votos.items():\n",
        "        print(f\"Candidato {candidato}: {quantidade} voto(s)\")\n",
        "\n",
        "\n",
        "\n",
        "\n"
      ],
      "metadata": {
        "id": "hAOw03J8Gyh9"
      },
      "execution_count": 16,
      "outputs": []
    },
    {
      "cell_type": "code",
      "source": [
        "realizar_votacao()"
      ],
      "metadata": {
        "colab": {
          "base_uri": "https://localhost:8080/"
        },
        "id": "2dJPXM5gGpAN",
        "outputId": "83e7a019-c558-467e-a7e6-a123a7454cd1"
      },
      "execution_count": 17,
      "outputs": [
        {
          "output_type": "stream",
          "name": "stdout",
          "text": [
            "Escolha o seu candidato:\n",
            "1 - lucas\n",
            "2 - marcos\n",
            "3 - pedro\n",
            "Digite 0 para encerrar a votação.\n",
            "Seu voto: 1\n",
            "Escolha o seu candidato:\n",
            "1 - lucas\n",
            "2 - marcos\n",
            "3 - pedro\n",
            "Digite 0 para encerrar a votação.\n",
            "Seu voto: 1\n",
            "Escolha o seu candidato:\n",
            "1 - lucas\n",
            "2 - marcos\n",
            "3 - pedro\n",
            "Digite 0 para encerrar a votação.\n",
            "Seu voto: 1\n",
            "Escolha o seu candidato:\n",
            "1 - lucas\n",
            "2 - marcos\n",
            "3 - pedro\n",
            "Digite 0 para encerrar a votação.\n",
            "Seu voto: 2\n",
            "Escolha o seu candidato:\n",
            "1 - lucas\n",
            "2 - marcos\n",
            "3 - pedro\n",
            "Digite 0 para encerrar a votação.\n",
            "Seu voto: 3\n",
            "Escolha o seu candidato:\n",
            "1 - lucas\n",
            "2 - marcos\n",
            "3 - pedro\n",
            "Digite 0 para encerrar a votação.\n",
            "Seu voto: 1\n",
            "Escolha o seu candidato:\n",
            "1 - lucas\n",
            "2 - marcos\n",
            "3 - pedro\n",
            "Digite 0 para encerrar a votação.\n",
            "Seu voto: 0\n",
            "\n",
            "Resultado da votação:\n",
            "Candidato a: 4 voto(s)\n",
            "Candidato b: 1 voto(s)\n",
            "Candidato c: 1 voto(s)\n"
          ]
        }
      ]
    }
  ]
}