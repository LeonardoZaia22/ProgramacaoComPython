{
  "nbformat": 4,
  "nbformat_minor": 0,
  "metadata": {
    "colab": {
      "provenance": [],
      "authorship_tag": "ABX9TyOHxrffs+t4la/jcD86zKsa",
      "include_colab_link": true
    },
    "kernelspec": {
      "name": "python3",
      "display_name": "Python 3"
    },
    "language_info": {
      "name": "python"
    }
  },
  "cells": [
    {
      "cell_type": "markdown",
      "metadata": {
        "id": "view-in-github",
        "colab_type": "text"
      },
      "source": [
        "<a href=\"https://colab.research.google.com/github/LeonardoZaia22/ProgramacaoComPython/blob/main/lacos/Corre%C3%A7%C3%A3o_prova_La%C3%A7os.ipynb\" target=\"_parent\"><img src=\"https://colab.research.google.com/assets/colab-badge.svg\" alt=\"Open In Colab\"/></a>"
      ]
    },
    {
      "cell_type": "code",
      "execution_count": 4,
      "metadata": {
        "colab": {
          "base_uri": "https://localhost:8080/"
        },
        "id": "mY5_Rr9PVnY9",
        "outputId": "62436cc4-4243-4041-a4ca-d140c38009b6"
      },
      "outputs": [
        {
          "output_type": "stream",
          "name": "stdout",
          "text": [
            "Você começa com 10 pontos. A cada erro, perde 1 ponto.\n",
            "Adivinhe o número secreto (entre 1 e 100): 50\n",
            "Você quer uma dica? (s/n): n\n",
            "O número secreto é maior.\n",
            "Adivinhe o número secreto (entre 1 e 100): 80\n",
            "Você quer uma dica? (s/n): s\n",
            "O número secreto é maior.\n",
            "Adivinhe o número secreto (entre 1 e 100): 90\n",
            "Você quer uma dica? (s/n): s\n",
            "O número secreto é maior.\n",
            "Adivinhe o número secreto (entre 1 e 100): 95\n",
            "Você quer uma dica? (s/n): n\n",
            "O número secreto é maior.\n",
            "Adivinhe o número secreto (entre 1 e 100): 94\n",
            "Você quer uma dica? (s/n): s\n",
            "O número secreto é maior.\n",
            "Adivinhe o número secreto (entre 1 e 100): 96\n",
            "Você quer uma dica? (s/n): n\n",
            "O número secreto é maior.\n",
            "Adivinhe o número secreto (entre 1 e 100): 97\n",
            "Você quer uma dica? (s/n): s\n",
            "O número secreto é maior.\n",
            "Adivinhe o número secreto (entre 1 e 100): 99\n",
            "Você quer uma dica? (s/n): n]\n",
            "O número secreto é menor.\n",
            "Adivinhe o número secreto (entre 1 e 100): 98\n",
            "Você acertou o número secreto! Era 98 .\n",
            "Você errou 8 vezes.\n",
            "Você palpitou 9 vezes.\n",
            "Seus pontos finais são 2 .\n"
          ]
        }
      ],
      "source": [
        "import random\n",
        "\n",
        "secreto = random.randint(1, 100)\n",
        "\n",
        "resp = 0\n",
        "cont = 0\n",
        "palpite = 0\n",
        "pontos = 10\n",
        "\n",
        "print(\"Você começa com 10 pontos. A cada erro, perde 1 ponto.\")\n",
        "\n",
        "while resp != secreto:\n",
        "    resp = int(input(\"Adivinhe o número secreto (entre 1 e 100): \"))\n",
        "    palpite = palpite + 1\n",
        "\n",
        "    if resp <= 0 or resp > 100:\n",
        "        print(\"Palpite inválido. Tente novamente.\")\n",
        "        continue\n",
        "\n",
        "    if resp == secreto:\n",
        "        print(\"Você acertou o número secreto! Era\", secreto, \".\")\n",
        "        break\n",
        "\n",
        "    cont = cont + 1\n",
        "    if pontos - cont <= 0:\n",
        "        print(\"Você perdeu! O número secreto era\", secreto, \".\")\n",
        "        break\n",
        "\n",
        "    dica = input(\"Você quer uma dica? (s/n): \")\n",
        "    if dica == 's':\n",
        "        if resp > secreto:\n",
        "            print(\"O número secreto é menor.\")\n",
        "        else:\n",
        "            print(\"O número secreto é maior.\")\n",
        "    else:\n",
        "        if resp > secreto:\n",
        "            print(\"O número secreto é menor.\")\n",
        "        else:\n",
        "            print(\"O número secreto é maior.\")\n",
        "\n",
        "print(\"Você errou\", cont, \"vezes.\")\n",
        "print(\"Você palpitou\", palpite, \"vezes.\")\n",
        "print(\"Seus pontos finais são\", pontos - cont, \".\")\n",
        "\n",
        "\n",
        "\n",
        "\n"
      ]
    },
    {
      "cell_type": "code",
      "source": [
        "\n",
        "prod = 0\n",
        "sair = int(input(\"Digite qualquer número para começar ou 0 para sair: \"))\n",
        "\n",
        "while sair != 0:\n",
        "    preco = float(input(\"Quanto custou o produto? Digite 0 se acabar: \"))\n",
        "    if preco == 0:\n",
        "        break\n",
        "    prod = prod + preco\n",
        "    print(\"Você gastou até agora:\", prod)\n",
        "\n",
        "pag = int(input(\"Vai pagar tudo de uma vez? Digite 1 para sim, 2 para parcelado: \"))\n",
        "\n",
        "if pag == 1:\n",
        "    desconto = prod * 0.05\n",
        "    total = prod - desconto\n",
        "    print(\"Total com desconto é:\", total)\n",
        "\n",
        "elif pag == 2:\n",
        "    print(\"Total sem desconto é:\", prod)\n",
        "\n",
        "else:\n",
        "    print(\"Opção inválida, tente de novo!\")\n"
      ],
      "metadata": {
        "colab": {
          "base_uri": "https://localhost:8080/"
        },
        "id": "b31T4qcCpnnR",
        "outputId": "d022d652-c919-4d81-bab1-3e14588b41c4"
      },
      "execution_count": null,
      "outputs": [
        {
          "output_type": "stream",
          "name": "stdout",
          "text": [
            "Digite qualquer numero para começar ou você deseja sair? digite 0 quando quier sair8\n",
            "insira o preço do produto que comprou20\n",
            "20.0\n",
            "insira o preço do produto que comprou50\n",
            "70.0\n",
            "insira o preço do produto que comprou0\n",
            "você vai pagar á vista?, se sim digite 1, se pagar no cartão, digite 21\n",
            "O total da compra será 66.5\n"
          ]
        }
      ]
    }
  ]
}