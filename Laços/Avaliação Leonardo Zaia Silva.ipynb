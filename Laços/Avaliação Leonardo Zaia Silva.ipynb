{
 "cells": [
  {
   "cell_type": "code",
   "execution_count": 158,
   "id": "e95bd554",
   "metadata": {},
   "outputs": [
    {
     "ename": "SyntaxError",
     "evalue": "invalid syntax (1835043077.py, line 1)",
     "output_type": "error",
     "traceback": [
      "\u001b[1;36m  Cell \u001b[1;32mIn [158], line 1\u001b[1;36m\u001b[0m\n\u001b[1;33m    nota = consegui só uma\u001b[0m\n\u001b[1;37m                    ^\u001b[0m\n\u001b[1;31mSyntaxError\u001b[0m\u001b[1;31m:\u001b[0m invalid syntax\n"
     ]
    }
   ],
   "source": [
    "não consigo :(\n",
    "        \n",
    "\n",
    "\n",
    "\n",
    "\n",
    "\n",
    "\n",
    "\n",
    "\n",
    "\n",
    "\n",
    "\n",
    "\n",
    "\n",
    "\n",
    "\n",
    "\n",
    "\n",
    "\n",
    "\n"
   ]
  },
  {
   "cell_type": "code",
   "execution_count": 154,
   "id": "74a4d0e7",
   "metadata": {},
   "outputs": [
    {
     "name": "stdout",
     "output_type": "stream",
     "text": [
      "Digite a quantidade de produtos5\n",
      "Digite o preço22\n",
      "Digite o preço4\n",
      "Digite o preço6\n",
      "Digite o preço9\n",
      "Digite o preço8\n",
      "vai ser a vista?sim\n",
      "46.55\n"
     ]
    }
   ],
   "source": [
    "qnt = int(input(\"Digite a quantidade de produtos\"))\n",
    "total = 0 \n",
    "for preco in range(qnt):\n",
    "    preco = float(input(\"Digite o preço\"))\n",
    "    total = total+preco\n",
    "    \n",
    "vista= input(\"vai ser a vista?\")\n",
    "if  vista == \"sim\":\n",
    "    totalvista = total-(total*0.05)\n",
    "    print(totalvista)\n",
    "elif  vista == \"não\":\n",
    "    print(\"total a pagar\", total)\n",
    "\n",
    "\n",
    "\n",
    "\n",
    "\n"
   ]
  },
  {
   "cell_type": "code",
   "execution_count": null,
   "id": "494f78f2",
   "metadata": {},
   "outputs": [],
   "source": []
  },
  {
   "cell_type": "code",
   "execution_count": null,
   "id": "29a9d468",
   "metadata": {},
   "outputs": [],
   "source": []
  }
 ],
 "metadata": {
  "kernelspec": {
   "display_name": "Python 3 (ipykernel)",
   "language": "python",
   "name": "python3"
  },
  "language_info": {
   "codemirror_mode": {
    "name": "ipython",
    "version": 3
   },
   "file_extension": ".py",
   "mimetype": "text/x-python",
   "name": "python",
   "nbconvert_exporter": "python",
   "pygments_lexer": "ipython3",
   "version": "3.10.7"
  }
 },
 "nbformat": 4,
 "nbformat_minor": 5
}
