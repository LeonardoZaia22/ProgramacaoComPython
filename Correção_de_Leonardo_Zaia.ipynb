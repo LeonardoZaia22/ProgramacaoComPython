{
  "nbformat": 4,
  "nbformat_minor": 0,
  "metadata": {
    "colab": {
      "provenance": [],
      "authorship_tag": "ABX9TyNU+smoUZUb2SGTei8BQszs",
      "include_colab_link": true
    },
    "kernelspec": {
      "name": "python3",
      "display_name": "Python 3"
    },
    "language_info": {
      "name": "python"
    }
  },
  "cells": [
    {
      "cell_type": "markdown",
      "metadata": {
        "id": "view-in-github",
        "colab_type": "text"
      },
      "source": [
        "<a href=\"https://colab.research.google.com/github/LeonardoZaia22/ProgramacaoComPython/blob/main/Corre%C3%A7%C3%A3o_de_Leonardo_Zaia.ipynb\" target=\"_parent\"><img src=\"https://colab.research.google.com/assets/colab-badge.svg\" alt=\"Open In Colab\"/></a>"
      ]
    },
    {
      "cell_type": "code",
      "execution_count": 6,
      "metadata": {
        "colab": {
          "base_uri": "https://localhost:8080/",
          "height": 408
        },
        "id": "mY5_Rr9PVnY9",
        "outputId": "90b1fb07-db37-420a-912d-d7adeb4a7323"
      },
      "outputs": [
        {
          "name": "stdout",
          "output_type": "stream",
          "text": [
            "você começa com 10 pontos, á medida que você errar, perderá 1 ponto\n",
            "Advinhe o número secreto entre 1 e 100: 1\n",
            "você quer uma dica? Se sim, aperte 1.50\n"
          ]
        },
        {
          "output_type": "error",
          "ename": "KeyboardInterrupt",
          "evalue": "Interrupted by user",
          "traceback": [
            "\u001b[0;31m---------------------------------------------------------------------------\u001b[0m",
            "\u001b[0;31mKeyboardInterrupt\u001b[0m                         Traceback (most recent call last)",
            "\u001b[0;32m<ipython-input-6-2ddc8c4bcc15>\u001b[0m in \u001b[0;36m<cell line: 8>\u001b[0;34m()\u001b[0m\n\u001b[1;32m      7\u001b[0m \u001b[0mprint\u001b[0m\u001b[0;34m(\u001b[0m\u001b[0;34m\"você começa com 10 pontos, á medida que você errar, perderá 1 ponto\"\u001b[0m\u001b[0;34m)\u001b[0m\u001b[0;34m\u001b[0m\u001b[0;34m\u001b[0m\u001b[0m\n\u001b[1;32m      8\u001b[0m \u001b[0;32mwhile\u001b[0m \u001b[0mresp\u001b[0m \u001b[0;34m!=\u001b[0m \u001b[0msecreto\u001b[0m\u001b[0;34m:\u001b[0m\u001b[0;34m\u001b[0m\u001b[0;34m\u001b[0m\u001b[0m\n\u001b[0;32m----> 9\u001b[0;31m   \u001b[0mresp\u001b[0m\u001b[0;34m=\u001b[0m \u001b[0mint\u001b[0m\u001b[0;34m(\u001b[0m\u001b[0minput\u001b[0m\u001b[0;34m(\u001b[0m\u001b[0;34m\"Advinhe o número secreto entre 1 e 100: \"\u001b[0m\u001b[0;34m)\u001b[0m\u001b[0;34m)\u001b[0m\u001b[0;34m\u001b[0m\u001b[0;34m\u001b[0m\u001b[0m\n\u001b[0m\u001b[1;32m     10\u001b[0m   \u001b[0mpalpite\u001b[0m\u001b[0;34m+=\u001b[0m\u001b[0;36m1\u001b[0m\u001b[0;34m\u001b[0m\u001b[0;34m\u001b[0m\u001b[0m\n\u001b[1;32m     11\u001b[0m   \u001b[0mp_fim\u001b[0m\u001b[0;34m=\u001b[0m \u001b[0mpontos\u001b[0m\u001b[0;34m-\u001b[0m\u001b[0mcont\u001b[0m\u001b[0;34m\u001b[0m\u001b[0;34m\u001b[0m\u001b[0m\n",
            "\u001b[0;32m/usr/local/lib/python3.10/dist-packages/ipykernel/kernelbase.py\u001b[0m in \u001b[0;36mraw_input\u001b[0;34m(self, prompt)\u001b[0m\n\u001b[1;32m    849\u001b[0m                 \u001b[0;34m\"raw_input was called, but this frontend does not support input requests.\"\u001b[0m\u001b[0;34m\u001b[0m\u001b[0;34m\u001b[0m\u001b[0m\n\u001b[1;32m    850\u001b[0m             )\n\u001b[0;32m--> 851\u001b[0;31m         return self._input_request(str(prompt),\n\u001b[0m\u001b[1;32m    852\u001b[0m             \u001b[0mself\u001b[0m\u001b[0;34m.\u001b[0m\u001b[0m_parent_ident\u001b[0m\u001b[0;34m,\u001b[0m\u001b[0;34m\u001b[0m\u001b[0;34m\u001b[0m\u001b[0m\n\u001b[1;32m    853\u001b[0m             \u001b[0mself\u001b[0m\u001b[0;34m.\u001b[0m\u001b[0m_parent_header\u001b[0m\u001b[0;34m,\u001b[0m\u001b[0;34m\u001b[0m\u001b[0;34m\u001b[0m\u001b[0m\n",
            "\u001b[0;32m/usr/local/lib/python3.10/dist-packages/ipykernel/kernelbase.py\u001b[0m in \u001b[0;36m_input_request\u001b[0;34m(self, prompt, ident, parent, password)\u001b[0m\n\u001b[1;32m    893\u001b[0m             \u001b[0;32mexcept\u001b[0m \u001b[0mKeyboardInterrupt\u001b[0m\u001b[0;34m:\u001b[0m\u001b[0;34m\u001b[0m\u001b[0;34m\u001b[0m\u001b[0m\n\u001b[1;32m    894\u001b[0m                 \u001b[0;31m# re-raise KeyboardInterrupt, to truncate traceback\u001b[0m\u001b[0;34m\u001b[0m\u001b[0;34m\u001b[0m\u001b[0m\n\u001b[0;32m--> 895\u001b[0;31m                 \u001b[0;32mraise\u001b[0m \u001b[0mKeyboardInterrupt\u001b[0m\u001b[0;34m(\u001b[0m\u001b[0;34m\"Interrupted by user\"\u001b[0m\u001b[0;34m)\u001b[0m \u001b[0;32mfrom\u001b[0m \u001b[0;32mNone\u001b[0m\u001b[0;34m\u001b[0m\u001b[0;34m\u001b[0m\u001b[0m\n\u001b[0m\u001b[1;32m    896\u001b[0m             \u001b[0;32mexcept\u001b[0m \u001b[0mException\u001b[0m \u001b[0;32mas\u001b[0m \u001b[0me\u001b[0m\u001b[0;34m:\u001b[0m\u001b[0;34m\u001b[0m\u001b[0;34m\u001b[0m\u001b[0m\n\u001b[1;32m    897\u001b[0m                 \u001b[0mself\u001b[0m\u001b[0;34m.\u001b[0m\u001b[0mlog\u001b[0m\u001b[0;34m.\u001b[0m\u001b[0mwarning\u001b[0m\u001b[0;34m(\u001b[0m\u001b[0;34m\"Invalid Message:\"\u001b[0m\u001b[0;34m,\u001b[0m \u001b[0mexc_info\u001b[0m\u001b[0;34m=\u001b[0m\u001b[0;32mTrue\u001b[0m\u001b[0;34m)\u001b[0m\u001b[0;34m\u001b[0m\u001b[0;34m\u001b[0m\u001b[0m\n",
            "\u001b[0;31mKeyboardInterrupt\u001b[0m: Interrupted by user"
          ]
        }
      ],
      "source": [
        "import random\n",
        "secreto= random.randint(1,100)\n",
        "resp=0\n",
        "cont=0\n",
        "palpite= 0\n",
        "pontos=10\n",
        "print(\"você começa com 10 pontos, á medida que você errar, perderá 1 ponto\")\n",
        "while resp != secreto:\n",
        "  resp= int(input(\"Advinhe o número secreto entre 1 e 100: \"))\n",
        "  palpite+=1\n",
        "  p_fim= pontos-cont\n",
        "  if resp <= 0 or resp > 100:\n",
        "    print(\"Esse valor foi desconsiderado, você foi desclassificado\")\n",
        "    break\n",
        "  dica= int(input(\"você quer uma dica? Se sim, aperte 1.\"))\n",
        "  if dica == 1:\n",
        "    if resp > secreto:\n",
        "      if resp-secreto > 10:\n",
        "        print (\"você está frio\")\n",
        "      else:\n",
        "        print (\"você está quente\")\n",
        "      print(\"você está acima\")\n",
        "      cont+=1\n",
        "\n",
        "    if resp < secreto:\n",
        "      if secreto-resp > 10:\n",
        "        print (\"você está frio\")\n",
        "      else:\n",
        "        print (\"você está quente\")\n",
        "      print (\"O número está abaixo\")\n",
        "      cont+=1\n",
        "  if resp == secreto:\n",
        "    print(\"Você acertou\")\n",
        "    break\n",
        "  if p_fim == 0:\n",
        "    print(\"Você perdeu\")\n",
        "    break\n",
        "\n",
        "print(\"você errou\", cont,  \"vezes\" )\n",
        "print(\"você palpitou\", palpite, \"vezes\")\n",
        "print(\"seus pontos finais são\", p_fim)\n",
        "\n"
      ]
    },
    {
      "cell_type": "code",
      "source": [
        "\n",
        "prod=0\n",
        "cond=0\n",
        "sair= int(input(\"Digite qualquer numero para começar ou você deseja sair? digite 0 quando quier sair\"))\n",
        "while cond==0:\n",
        "   preco= float(input(\"insira o preço do produto que comprou\"))\n",
        "   if preco==0:\n",
        "    break\n",
        "   prod=prod+preco\n",
        "   print(prod)\n",
        "pag= int(input(\"você vai pagar á vista?, se sim digite 1, se pagar no cartão, digite 2\"))\n",
        "if pag==1:\n",
        "    desc= prod*0.05\n",
        "    fim= prod-desc\n",
        "    print(\"O total da compra será\", fim)\n",
        "\n",
        "elif pag==2:\n",
        "  print(prod)\n",
        "\n",
        "\n",
        "else:\n",
        "  print(\"opção inválida, passe novamente\")"
      ],
      "metadata": {
        "colab": {
          "base_uri": "https://localhost:8080/"
        },
        "id": "b31T4qcCpnnR",
        "outputId": "d022d652-c919-4d81-bab1-3e14588b41c4"
      },
      "execution_count": 5,
      "outputs": [
        {
          "output_type": "stream",
          "name": "stdout",
          "text": [
            "Digite qualquer numero para começar ou você deseja sair? digite 0 quando quier sair8\n",
            "insira o preço do produto que comprou20\n",
            "20.0\n",
            "insira o preço do produto que comprou50\n",
            "70.0\n",
            "insira o preço do produto que comprou0\n",
            "você vai pagar á vista?, se sim digite 1, se pagar no cartão, digite 21\n",
            "O total da compra será 66.5\n"
          ]
        }
      ]
    }
  ]
}